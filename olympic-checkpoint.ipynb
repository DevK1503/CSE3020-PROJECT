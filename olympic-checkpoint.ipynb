{
 "cells": [
  {
   "cell_type": "markdown",
   "metadata": {
    "_uuid": "522ead0f425c454ccd61381ea367edd8612d2a9b"
   },
   "source": [
    "# Data exploration about the recent history of the Olympic Games\n"
   ]
  },
  {
   "cell_type": "markdown",
   "metadata": {
    "_uuid": "894a4e40048d5cc3c4fc621d4e21186dadf97fa1"
   },
   "source": [
    "# 1. Importing the modules "
   ]
  },
  {
   "cell_type": "code",
   "execution_count": 1,
   "metadata": {
    "_cell_guid": "b1076dfc-b9ad-4769-8c92-a6c4dae69d19",
    "_uuid": "8f2839f25d086af736a60e9eeb907d3b93b6e0e5"
   },
   "outputs": [
    {
     "ename": "ModuleNotFoundError",
     "evalue": "No module named 'seaborn'",
     "output_type": "error",
     "traceback": [
      "\u001b[1;31m---------------------------------------------------------------------------\u001b[0m",
      "\u001b[1;31mModuleNotFoundError\u001b[0m                       Traceback (most recent call last)",
      "Cell \u001b[1;32mIn [1], line 3\u001b[0m\n\u001b[0;32m      1\u001b[0m \u001b[38;5;28;01mimport\u001b[39;00m \u001b[38;5;21;01mnumpy\u001b[39;00m \u001b[38;5;28;01mas\u001b[39;00m \u001b[38;5;21;01mnp\u001b[39;00m\n\u001b[0;32m      2\u001b[0m \u001b[38;5;28;01mimport\u001b[39;00m \u001b[38;5;21;01mpandas\u001b[39;00m \u001b[38;5;28;01mas\u001b[39;00m \u001b[38;5;21;01mpd\u001b[39;00m\n\u001b[1;32m----> 3\u001b[0m \u001b[38;5;28;01mimport\u001b[39;00m \u001b[38;5;21;01mseaborn\u001b[39;00m \u001b[38;5;28;01mas\u001b[39;00m \u001b[38;5;21;01msns\u001b[39;00m\n\u001b[0;32m      4\u001b[0m \u001b[38;5;28;01mfrom\u001b[39;00m \u001b[38;5;21;01mmatplotlib\u001b[39;00m \u001b[38;5;28;01mimport\u001b[39;00m pyplot \u001b[38;5;28;01mas\u001b[39;00m plt\n\u001b[0;32m      6\u001b[0m \u001b[38;5;28;01mimport\u001b[39;00m \u001b[38;5;21;01mos\u001b[39;00m\n",
      "\u001b[1;31mModuleNotFoundError\u001b[0m: No module named 'seaborn'"
     ]
    }
   ],
   "source": [
    "import numpy as np\n",
    "import pandas as pd\n",
    "import seaborn as sns\n",
    "from matplotlib import pyplot as plt\n",
    "\n",
    "import os\n",
    "print(os.listdir(\"./input\"))"
   ]
  },
  {
   "cell_type": "markdown",
   "metadata": {
    "_uuid": "57e4b08e8df21fcb5618de67281c9e0629422b84"
   },
   "source": [
    "# 2. Data Importing"
   ]
  },
  {
   "cell_type": "code",
   "execution_count": null,
   "metadata": {
    "_cell_guid": "79c7e3d0-c299-4dcb-8224-4455121ee9b0",
    "_uuid": "d629ff2d2480ee46fbb7e2d37f6b5fab8052498a"
   },
   "outputs": [],
   "source": [
    "data = pd.read_csv('./input/athlete_events.csv')\n",
    "regions = pd.read_csv('./input/noc_regions.csv')"
   ]
  },
  {
   "cell_type": "markdown",
   "metadata": {
    "_uuid": "2376ec975f261dabc2a926c756af7cb1b74be748"
   },
   "source": [
    "# 3. Collecting information about the two dataset"
   ]
  },
  {
   "cell_type": "code",
   "execution_count": null,
   "metadata": {
    "_uuid": "ae58e68e8302eb0bb3df862f6311a720f1c26865"
   },
   "outputs": [],
   "source": [
    "data.head(5)"
   ]
  },
  {
   "cell_type": "code",
   "execution_count": null,
   "metadata": {
    "_uuid": "06ab4534533ab262e730b3e60ae4a7da4382b197"
   },
   "outputs": [],
   "source": [
    "data.describe()"
   ]
  },
  {
   "cell_type": "code",
   "execution_count": null,
   "metadata": {
    "_uuid": "455b4118a50de2bef0059eca274aa618b1306c7c"
   },
   "outputs": [],
   "source": [
    "data.info()"
   ]
  },
  {
   "cell_type": "code",
   "execution_count": null,
   "metadata": {
    "_uuid": "914cefa0b6ad17ec0aead6b9c4c27a02e34f610e"
   },
   "outputs": [],
   "source": [
    "regions.head(5)"
   ]
  },
  {
   "cell_type": "markdown",
   "metadata": {
    "_uuid": "cd3b74b6b5f1c8a92948258e9c17151efd44ac3b"
   },
   "source": [
    "# 4. Joining the dataframes"
   ]
  },
  {
   "cell_type": "code",
   "execution_count": null,
   "metadata": {
    "_uuid": "ce11b76e91e61ebe19c6f40ee86eb2a0dc56e2f8"
   },
   "outputs": [],
   "source": [
    "merged = pd.merge(data, regions, on='NOC', how='left')"
   ]
  },
  {
   "cell_type": "code",
   "execution_count": null,
   "metadata": {
    "_uuid": "5670d573ec6b4ce429a86335e5d530647b827af0"
   },
   "outputs": [],
   "source": [
    "merged.head()"
   ]
  },
  {
   "cell_type": "markdown",
   "metadata": {
    "_uuid": "03c8a315255b93fe4e1f8840f3af4e079b82f9db"
   },
   "source": [
    "# 5. Distribution of the age of gold medalists"
   ]
  },
  {
   "cell_type": "code",
   "execution_count": null,
   "metadata": {
    "_uuid": "355b930760d3bdbd4d461ef4b98b7c73bcb6daef"
   },
   "outputs": [],
   "source": [
    "goldMedals = merged[(merged.Medal == 'Gold')]\n",
    "goldMedals.head()"
   ]
  },
  {
   "cell_type": "code",
   "execution_count": null,
   "metadata": {
    "_uuid": "6b8a2fecc3992616b11a71d3ad6d8bc5d33236ba"
   },
   "outputs": [],
   "source": [
    "goldMedals.isnull().any()"
   ]
  },
  {
   "cell_type": "code",
   "execution_count": null,
   "metadata": {
    "_uuid": "24d85441cd482afc4d4f10ab8c17ec5c9d328b6e"
   },
   "outputs": [],
   "source": [
    "goldMedals = goldMedals[np.isfinite(goldMedals['Age'])]"
   ]
  },
  {
   "cell_type": "code",
   "execution_count": null,
   "metadata": {
    "_uuid": "2b33dc22e2e59ed85813fc8daaf35c512c911112"
   },
   "outputs": [],
   "source": [
    "goldMedals['ID'][goldMedals['Age'] > 50].count()"
   ]
  },
  {
   "cell_type": "code",
   "execution_count": null,
   "metadata": {
    "_uuid": "153c7c5043e65fd97986675633420843a80b4300"
   },
   "outputs": [],
   "source": [
    "masterDisciplines = goldMedals['Sport'][goldMedals['Age'] > 50]"
   ]
  },
  {
   "cell_type": "code",
   "execution_count": null,
   "metadata": {
    "_uuid": "52ab85ebbe16a7b44b524511df18c19a78e5fe51"
   },
   "outputs": [],
   "source": [
    "print(masterDisciplines)\n",
    "plt.figure(figsize=(20, 10))\n",
    "plt.tight_layout()\n",
    "sns.barplot(x=masterDisciplines.index,y=masterDisciplines.values)\n",
    "plt.title('Gold Medals for Athletes Over 50')"
   ]
  },
  {
   "cell_type": "markdown",
   "metadata": {
    "_uuid": "43ccdd39eee693b1d275cc58859d76c093e0a587"
   },
   "source": [
    "# 6. Women in Athletics"
   ]
  },
  {
   "cell_type": "code",
   "execution_count": null,
   "metadata": {
    "_uuid": "7390670a50a01514c05b69b5212861de7391ccd9"
   },
   "outputs": [],
   "source": [
    "womenInOlympics = merged[(merged.Sex == 'F') & (merged.Season == 'Summer')]"
   ]
  },
  {
   "cell_type": "code",
   "execution_count": null,
   "metadata": {
    "_uuid": "c11471fdf794c6acf39e0b30001e6be1ed3dd169"
   },
   "outputs": [],
   "source": [
    "womenInOlympics.head(10)"
   ]
  },
  {
   "cell_type": "code",
   "execution_count": null,
   "metadata": {
    "_uuid": "2d67109a8300dd2ac851c5cacd09cadab9827bba"
   },
   "outputs": [],
   "source": [
    "sns.set(style=\"darkgrid\")\n",
    "plt.figure(figsize=(20, 10))\n",
    "sns.countplot(x='Year', data=womenInOlympics)\n",
    "plt.title('Women medals per edition of the Games')"
   ]
  },
  {
   "cell_type": "code",
   "execution_count": null,
   "metadata": {
    "_uuid": "60912b489d240f278c256b8d993b369d8203a4e3"
   },
   "outputs": [],
   "source": [
    "womenInOlympics.loc[womenInOlympics['Year'] == 1900].head(10)"
   ]
  },
  {
   "cell_type": "code",
   "execution_count": null,
   "metadata": {
    "_uuid": "6139ddc019b14b6527d87bb287140033301e1c77"
   },
   "outputs": [],
   "source": [
    "womenInOlympics['ID'].loc[womenInOlympics['Year'] == 1900].count()"
   ]
  },
  {
   "cell_type": "markdown",
   "metadata": {
    "_uuid": "65e552504948bdb37fa5dac39b869202519ce389"
   },
   "source": [
    "# 7. Medals per country"
   ]
  },
  {
   "cell_type": "code",
   "execution_count": null,
   "metadata": {
    "_uuid": "215ee5437bf4260b9ce3dc12bd6f25807e259713"
   },
   "outputs": [],
   "source": [
    "goldMedals.region.value_counts().reset_index(name='Medal').head(5)"
   ]
  },
  {
   "cell_type": "code",
   "execution_count": null,
   "metadata": {
    "_uuid": "ac0e59d4ee0bba0dc9fe091791ea2349d21e9959"
   },
   "outputs": [],
   "source": [
    "totalGoldMedals = goldMedals.region.value_counts().reset_index(name='Medal').head(5)\n",
    "g = sns.catplot(x=\"index\", y=\"Medal\", data=totalGoldMedals,\n",
    "                height=6, kind=\"bar\", palette=\"muted\")\n",
    "g.despine(left=True)\n",
    "g.set_xlabels(\"Top 5 countries\")\n",
    "g.set_ylabels(\"Number of Medals\")\n",
    "plt.title('Medals per Country')"
   ]
  },
  {
   "cell_type": "markdown",
   "metadata": {
    "_uuid": "15d029be12cd52bfe9817513cad5bb04476fd917"
   },
   "source": [
    "# 8. Disciplines with the greatest number of Gold Medals"
   ]
  },
  {
   "cell_type": "code",
   "execution_count": null,
   "metadata": {
    "_uuid": "8fcab60d131e05ec9bdf560674a23553d4401842"
   },
   "outputs": [],
   "source": [
    "goldMedalsIND = goldMedals.loc[goldMedals['NOC'] == 'IND']"
   ]
  },
  {
   "cell_type": "code",
   "execution_count": null,
   "metadata": {
    "_uuid": "0e5cd84678025f017ca66515b2d914b919e045b5"
   },
   "outputs": [],
   "source": [
    "goldMedalsIND.Event.value_counts().reset_index(name='Medal').head(20)"
   ]
  },
  {
   "cell_type": "code",
   "execution_count": null,
   "metadata": {
    "_uuid": "85d88c37c01c8cec4d808f9caa2b5e38b644402a"
   },
   "outputs": [],
   "source": [
    "goldMedalsIND['ID'].count()"
   ]
  },
  {
   "cell_type": "markdown",
   "metadata": {
    "_uuid": "44744af059a300667629686a0ba8c1dfb32c82e5"
   },
   "source": [
    "# 9. What is the median height/weight of an Olympic medalist? "
   ]
  },
  {
   "cell_type": "code",
   "execution_count": null,
   "metadata": {
    "_uuid": "3136988aa4e264e4d0747aa39c39bccf9de511d0"
   },
   "outputs": [],
   "source": [
    "goldMedals.head()"
   ]
  },
  {
   "cell_type": "code",
   "execution_count": null,
   "metadata": {
    "_uuid": "6324582a227f3608169f32f2f37f3b28033838b9"
   },
   "outputs": [],
   "source": [
    "notNullMedals = goldMedals[(goldMedals['Height'].notnull()) & (goldMedals['Weight'].notnull())]"
   ]
  },
  {
   "cell_type": "code",
   "execution_count": null,
   "metadata": {
    "_uuid": "4ed612c18553b5acbca48fa40a29887a6f45af1e"
   },
   "outputs": [],
   "source": [
    "notNullMedals.head()"
   ]
  },
  {
   "cell_type": "code",
   "execution_count": null,
   "metadata": {
    "_uuid": "8511c07ec36c033c0fbe13a5e5b526eb9974976d"
   },
   "outputs": [],
   "source": [
    "notNullMedals.info()"
   ]
  },
  {
   "cell_type": "code",
   "execution_count": null,
   "metadata": {
    "_uuid": "6a14adbd3a638e82b271c6379b3be0eb404ea75d"
   },
   "outputs": [],
   "source": [
    "plt.figure(figsize=(12, 10))\n",
    "ax = sns.scatterplot(x=\"Height\", y=\"Weight\", data=notNullMedals)\n",
    "plt.title('Height vs Weight of Olympic Medalists')"
   ]
  },
  {
   "cell_type": "code",
   "execution_count": null,
   "metadata": {
    "_uuid": "9bec75dbb4ee30b02870ec77e55aec376bc675c2"
   },
   "outputs": [],
   "source": [
    "notNullMedals.loc[notNullMedals['Weight'] > 160]"
   ]
  },
  {
   "cell_type": "markdown",
   "metadata": {
    "_uuid": "14e2d2b41d021d25012ad033511b161cbe577a3d"
   },
   "source": [
    "# 10. Evolution of the Olympics over time"
   ]
  },
  {
   "cell_type": "markdown",
   "metadata": {
    "_uuid": "5bb714c3449f1fcbe4cd6fdece13a8f2e476be13"
   },
   "source": [
    "We will now create two dataframes dividing the population of our dataset using Sex and Season (we would like to review only the summer games)"
   ]
  },
  {
   "cell_type": "code",
   "execution_count": null,
   "metadata": {
    "_uuid": "086b9162ec0794d74d257a5192c7b00a212c6895"
   },
   "outputs": [],
   "source": [
    "MenOverTime = merged[(merged.Sex == 'M') & (merged.Season == 'Summer')]\n",
    "WomenOverTime = merged[(merged.Sex == 'F') & (merged.Season == 'Summer')]"
   ]
  },
  {
   "cell_type": "code",
   "execution_count": null,
   "metadata": {
    "_uuid": "25a4f2af7e6835c08b8beb25fc48da297e26456e"
   },
   "outputs": [],
   "source": [
    "MenOverTime.head()"
   ]
  },
  {
   "cell_type": "code",
   "execution_count": null,
   "metadata": {
    "_uuid": "4e46687add5c6558d887f472bb26b0dc22e87462"
   },
   "outputs": [],
   "source": [
    "part = MenOverTime.groupby('Year')['Sex'].value_counts()\n",
    "plt.figure(figsize=(20, 10))\n",
    "part.loc[:,'M'].plot()\n",
    "plt.title('Variation of Male Athletes over time')"
   ]
  },
  {
   "cell_type": "code",
   "execution_count": null,
   "metadata": {
    "_uuid": "a1fe8e4d92b6b5f9a8c5cc2b99570bdfb4dfa36b"
   },
   "outputs": [],
   "source": [
    "part = WomenOverTime.groupby('Year')['Sex'].value_counts()\n",
    "plt.figure(figsize=(20, 10))\n",
    "part.loc[:,'F'].plot()\n",
    "plt.title('Variation of Female Athletes over time')"
   ]
  },
  {
   "cell_type": "code",
   "execution_count": null,
   "metadata": {
    "_uuid": "26fcb4c9e8656e4776ad89e231addde99ef09d65"
   },
   "outputs": [],
   "source": [
    "plt.figure(figsize=(20, 10))\n",
    "sns.boxplot(x='Year', y='Age', data=MenOverTime)\n",
    "plt.title('Variation of Age for Male Athletes over time')"
   ]
  },
  {
   "cell_type": "code",
   "execution_count": null,
   "metadata": {
    "_uuid": "ddf32e4aadc53fc61db309825093fc11b4613048"
   },
   "outputs": [],
   "source": [
    "MenOverTime.loc[MenOverTime['Age'] > 80].head(10)"
   ]
  },
  {
   "cell_type": "code",
   "execution_count": null,
   "metadata": {
    "_uuid": "39442e8fe799f575d738e7f7fdd110375f3484a9"
   },
   "outputs": [],
   "source": [
    "plt.figure(figsize=(20, 10))\n",
    "sns.boxplot(x='Year', y='Age', data=WomenOverTime)\n",
    "plt.title('Variation of Age for Female Athletes over time')"
   ]
  },
  {
   "cell_type": "code",
   "execution_count": null,
   "metadata": {
    "_uuid": "48f04477ed9f5230154cc92eb5ccbe41d224ae89"
   },
   "outputs": [],
   "source": [
    "WomenOverTime.loc[WomenOverTime['Year'] == 1904]"
   ]
  },
  {
   "cell_type": "code",
   "execution_count": null,
   "metadata": {
    "_uuid": "de65e15b0fc8f7879e06fb36aa60d0eeaf88e5d2"
   },
   "outputs": [],
   "source": [
    "plt.figure(figsize=(20, 10))\n",
    "sns.pointplot(x='Year', y='Weight', data=MenOverTime)\n",
    "plt.title('Variation of Weight for Male Athletes over time')"
   ]
  },
  {
   "cell_type": "code",
   "execution_count": null,
   "metadata": {
    "_uuid": "1fcf63ea21abc2a7d9c177f697a0df0187bbe665"
   },
   "outputs": [],
   "source": [
    "import warnings\n",
    "warnings.filterwarnings('ignore')\n",
    "plt.figure(figsize=(20, 10))\n",
    "sns.pointplot(x='Year', y='Weight', data=WomenOverTime)\n",
    "plt.title('Variation of Weight for Female Athletes over time')"
   ]
  },
  {
   "cell_type": "code",
   "execution_count": null,
   "metadata": {
    "_uuid": "0a23de4babd482ff4d305e0d7ff0e2c9a481c62d"
   },
   "outputs": [],
   "source": [
    "womenInOlympics.loc[womenInOlympics['Year'] < 1924].head(20)"
   ]
  },
  {
   "cell_type": "markdown",
   "metadata": {
    "_uuid": "023c5e614f891310897db7f7259672084f944737"
   },
   "source": [
    "***10.4 Variation of height along time***"
   ]
  },
  {
   "cell_type": "code",
   "execution_count": null,
   "metadata": {
    "_uuid": "e6a6ac421880d5d46437fee1bc5aba64fa50867c"
   },
   "outputs": [],
   "source": [
    "plt.figure(figsize=(20, 10))\n",
    "sns.pointplot(x='Year', y='Height', data=MenOverTime, palette='Set2')\n",
    "plt.title('Variation of Height for Male Athletes over time')"
   ]
  },
  {
   "cell_type": "code",
   "execution_count": null,
   "metadata": {
    "_uuid": "c65faabfaa3dbde4373b4b23581e47d29a984d9c"
   },
   "outputs": [],
   "source": [
    "plt.figure(figsize=(20, 10))\n",
    "sns.pointplot(x='Year', y='Height', data=WomenOverTime, palette='Set2')\n",
    "plt.title('Variation of Height for Female Athletes over time')"
   ]
  },
  {
   "cell_type": "code",
   "execution_count": null,
   "metadata": {
    "_uuid": "5b8f1e10ec01fd18165dfaf5f15dabdcaf4ac02e"
   },
   "outputs": [],
   "source": [
    "WomenOverTime.loc[(WomenOverTime['Year'] > 1924) & (WomenOverTime['Year'] < 1952)].head(10)"
   ]
  },
  {
   "cell_type": "code",
   "execution_count": null,
   "metadata": {
    "_uuid": "4b1102a9188cd824572da32f14e563e500fa7b55"
   },
   "outputs": [],
   "source": [
    "MenOverTime.head(5)"
   ]
  },
  {
   "cell_type": "code",
   "execution_count": null,
   "metadata": {
    "_uuid": "470d7dba4f44cc351f41b17da594aa8b27f8fc8a"
   },
   "outputs": [],
   "source": [
    "inMenOverTime = MenOverTime.loc[MenOverTime['region'] == 'India']"
   ]
  },
  {
   "cell_type": "code",
   "execution_count": null,
   "metadata": {
    "_uuid": "eda4e7eebed7b8a5b9a89945762a48a8b6e5a8fa"
   },
   "outputs": [],
   "source": [
    "inMenOverTime.head(5)"
   ]
  },
  {
   "cell_type": "code",
   "execution_count": null,
   "metadata": {
    "_uuid": "83ccdec5f696e1b0e988c0058fab0248a12926de"
   },
   "outputs": [],
   "source": [
    "sns.set(style=\"darkgrid\")\n",
    "plt.figure(figsize=(20, 10))\n",
    "sns.countplot(x='Year', data=inMenOverTime, palette='Set2')\n",
    "plt.title('Variation of Age for Indian Male Athletes over time')"
   ]
  },
  {
   "cell_type": "code",
   "execution_count": null,
   "metadata": {
    "_uuid": "fff94986b941c1bf055546bd60017e3c96d607d8"
   },
   "outputs": [],
   "source": [
    "inWomenOverTime = WomenOverTime.loc[WomenOverTime['region'] == 'India']"
   ]
  },
  {
   "cell_type": "code",
   "execution_count": null,
   "metadata": {
    "_uuid": "8580298a08febd74b9499202c0bd1cff2388eeb6"
   },
   "outputs": [],
   "source": [
    "sns.set(style=\"darkgrid\")\n",
    "plt.figure(figsize=(20, 10))\n",
    "sns.countplot(x='Year', data=inWomenOverTime, palette='Set2')\n",
    "plt.title('Variation of Age for Indian Female Athletes over time')"
   ]
  },
  {
   "cell_type": "code",
   "execution_count": null,
   "metadata": {},
   "outputs": [],
   "source": [
    "import pygwalker as pyg\n",
    "pyg.walk(merged[(merged.Year > 2000)])"
   ]
  },
  {
   "cell_type": "markdown",
   "metadata": {},
   "source": [
    "# 11. Model Building"
   ]
  },
  {
   "cell_type": "code",
   "execution_count": null,
   "metadata": {},
   "outputs": [],
   "source": [
    "from sklearn.preprocessing import StandardScaler\n",
    "from sklearn.model_selection import train_test_split\n",
    "from sklearn.ensemble import RandomForestClassifier\n",
    "\n",
    "# Model Evaluation\n",
    "from sklearn.metrics import classification_report, confusion_matrix\n",
    "import warnings\n",
    "warnings.filterwarnings('ignore')\n"
   ]
  },
  {
   "cell_type": "code",
   "execution_count": null,
   "metadata": {},
   "outputs": [],
   "source": [
    "data = merged[['Sex','Age','Height','Weight','Medal']]\n",
    "data['Medal'] = data['Medal'].apply(lambda x: 1 if str(x) != 'nan' else 0)\n",
    "\n",
    "\n",
    "def binary_encoder(data, columns, positive_values):\n",
    "    df = data.copy()\n",
    "    for col, positive_value in zip(columns, positive_values):\n",
    "        df[col] = df[col].apply(lambda x: 1 if x == positive_value else 0)\n",
    "    return df\n",
    "\n",
    "\n",
    "data = binary_encoder(\n",
    "    data,\n",
    "    columns=['Sex'],\n",
    "    positive_values=['M']\n",
    ")\n"
   ]
  },
  {
   "cell_type": "code",
   "execution_count": null,
   "metadata": {},
   "outputs": [],
   "source": [
    "def fill_missing_values(data,missing_values_columns):\n",
    "    df = data.copy()\n",
    "    '''substitute missing values using the above condition- \n",
    "    for example: height for female medalist is 170'''\n",
    "    for col in missing_values_columns:\n",
    "        df[col] = df.groupby(['Medal', 'Sex'],group_keys=False)[col].apply(lambda x: x.fillna(x.mean()).astype(int))\n",
    "     \n",
    "    return df\n",
    "\n",
    "# lets use this function to fill the missing values\n",
    "data = fill_missing_values(data,['Age','Height','Weight'])\n",
    "print(\"Total missing values:\", data.isna().sum().sum())\n"
   ]
  },
  {
   "cell_type": "code",
   "execution_count": null,
   "metadata": {},
   "outputs": [],
   "source": [
    "\n",
    "X = data.drop('Medal', axis=1)\n",
    "y = data['Medal']\n"
   ]
  },
  {
   "cell_type": "code",
   "execution_count": null,
   "metadata": {},
   "outputs": [],
   "source": [
    "X_train, X_test, y_train, y_test = train_test_split(\n",
    "    X, y, test_size=0.2, random_state=2022)\n"
   ]
  },
  {
   "cell_type": "code",
   "execution_count": null,
   "metadata": {},
   "outputs": [],
   "source": [
    "sc = StandardScaler()\n",
    "numerical_columns = ['Age', 'Height', 'Weight']\n",
    "X_train[numerical_columns] = sc.fit_transform(\n",
    "    X_train[numerical_columns])\n",
    "X_test[numerical_columns] = sc.transform(\n",
    "    X_test[numerical_columns])\n"
   ]
  },
  {
   "cell_type": "code",
   "execution_count": null,
   "metadata": {},
   "outputs": [],
   "source": [
    "rf = RandomForestClassifier()\n",
    "rf.fit(X_train,y_train)"
   ]
  },
  {
   "cell_type": "code",
   "execution_count": null,
   "metadata": {},
   "outputs": [],
   "source": [
    "y_pred = rf.predict(X_test)\n"
   ]
  },
  {
   "cell_type": "code",
   "execution_count": null,
   "metadata": {},
   "outputs": [],
   "source": [
    "print(\"Classification Report:\\n\\n\", classification_report(y_test, y_pred))\n"
   ]
  },
  {
   "cell_type": "code",
   "execution_count": null,
   "metadata": {},
   "outputs": [],
   "source": [
    "def predict(Sex, Age, Height, Weight):\n",
    " \n",
    "    sex_bin = 0 if Sex == 'female' else 1\n",
    "    input_data = sc.transform([[Age, Height, Weight]])\n",
    "    prediction = rf.predict_proba([[sex_bin] + input_data[0].tolist()])\n",
    "    return 'Wins Medal' if prediction[0][1] > 0.2 else 'Does not win medal' \n"
   ]
  },
  {
   "cell_type": "code",
   "execution_count": null,
   "metadata": {},
   "outputs": [],
   "source": [
    "import gradio as gr\n",
    "gr.Interface(fn=predict,inputs=[gr.Radio([\"male\",\"female\"]),gr.Number(),gr.Number(),gr.Number()],outputs=[gr.Text()]).launch()"
   ]
  },
  {
   "cell_type": "markdown",
   "metadata": {
    "_uuid": "3403ee69d83ffc3cf46df4ca622a5ea31179177c"
   },
   "source": [
    "# 11. Conclusions"
   ]
  }
 ],
 "metadata": {
  "kernelspec": {
   "display_name": "Python 3 (ipykernel)",
   "language": "python",
   "name": "python3"
  },
  "language_info": {
   "codemirror_mode": {
    "name": "ipython",
    "version": 3
   },
   "file_extension": ".py",
   "mimetype": "text/x-python",
   "name": "python",
   "nbconvert_exporter": "python",
   "pygments_lexer": "ipython3",
   "version": "3.9.4"
  }
 },
 "nbformat": 4,
 "nbformat_minor": 1
}
